{
 "cells": [
  {
   "cell_type": "code",
   "execution_count": 5,
   "id": "e23b04e4",
   "metadata": {},
   "outputs": [
    {
     "name": "stdout",
     "output_type": "stream",
     "text": [
      "Requirement already satisfied: openpyxl in c:\\users\\acer\\anaconda3\\lib\\site-packages (3.0.10)Note: you may need to restart the kernel to use updated packages.\n",
      "\n",
      "Requirement already satisfied: et_xmlfile in c:\\users\\acer\\anaconda3\\lib\\site-packages (from openpyxl) (1.1.0)\n"
     ]
    }
   ],
   "source": [
    "pip install openpyxl"
   ]
  },
  {
   "cell_type": "code",
   "execution_count": 6,
   "id": "d8405b52",
   "metadata": {},
   "outputs": [
    {
     "name": "stdout",
     "output_type": "stream",
     "text": [
      "Comments extracted and saved to comments.txt\n"
     ]
    }
   ],
   "source": [
    "import pandas as pd \n",
    " \n",
    "# Define the Excel file name \n",
    "excel_file = 'sample_data.xlsx' \n",
    " \n",
    "# Define the output text file name \n",
    "output_file = 'comments.txt' \n",
    " \n",
    "# Read the Excel file \n",
    "df = pd.read_excel(excel_file) \n",
    " \n",
    "# Extract the 'comments' column \n",
    "comments = df['comments'] \n",
    " \n",
    "# Open the output text file for writing \n",
    "with open(output_file, 'w') as txtfile:     # Write each comment to the text file     \n",
    "    for comment in comments:         \n",
    "        txtfile.write(str(comment) + '\\n') \n",
    " \n",
    "print(\"Comments extracted and saved to\", output_file) "
   ]
  },
  {
   "cell_type": "code",
   "execution_count": null,
   "id": "6b372cb3",
   "metadata": {},
   "outputs": [],
   "source": []
  }
 ],
 "metadata": {
  "kernelspec": {
   "display_name": "Python 3 (ipykernel)",
   "language": "python",
   "name": "python3"
  },
  "language_info": {
   "codemirror_mode": {
    "name": "ipython",
    "version": 3
   },
   "file_extension": ".py",
   "mimetype": "text/x-python",
   "name": "python",
   "nbconvert_exporter": "python",
   "pygments_lexer": "ipython3",
   "version": "3.11.5"
  }
 },
 "nbformat": 4,
 "nbformat_minor": 5
}
